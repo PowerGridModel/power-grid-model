{
 "cells": [
  {
   "attachments": {},
   "cell_type": "markdown",
   "id": "89cf2628",
   "metadata": {},
   "source": [
    "# Transformer Example\n",
    "\n",
    "In this notebook we will present examples of transformers in `power-grid-model`. \n",
    "\n",
    "Both two-winding transformer and three-winding transformer are covered. We will do one-time power flow calculation and one-time state estimation for both types of tranformers.\n",
    "\n",
    "This notebook serves as an example of how to use the Python API. For detailed API documentation, refer to\n",
    "[Python API reference](../api_reference/python-api-reference.md)\n",
    "and [Native Data Interface](../advanced_documentation/native-data-interface.md).\n",
    "\n",
    "## Transformer (Two-winding Transformer)\n",
    "\n",
    "Transformer is described as a pi model in `power-grid-model`, and it belongs to the `branch` component type which connects two nodes with possibly different voltage levels.\n",
    "\n",
    "### Example Network\n",
    "\n",
    "We use a simple network with 2 nodes, 1 source, 1 load and 1 transformer. As shown below:\n",
    "\n",
    "```\n",
    "   source_1 --- node_2 --- transformer_3 --- node_4 --- load_5\n",
    "\n",
    "```"
   ]
  },
  {
   "cell_type": "code",
   "execution_count": 1,
   "id": "ae11dc9a",
   "metadata": {},
   "outputs": [],
   "source": [
    "# some basic imports\n",
    "import numpy as np\n",
    "import warnings\n",
    "\n",
    "with warnings.catch_warnings(action=\"ignore\", category=DeprecationWarning):\n",
    "    # suppress warning about pyarrow as future required dependency\n",
    "    import pandas as pd\n",
    "\n",
    "from power_grid_model import LoadGenType\n",
    "from power_grid_model import PowerGridModel, CalculationMethod, CalculationType, MeasuredTerminalType\n",
    "from power_grid_model import initialize_array"
   ]
  },
  {
   "attachments": {},
   "cell_type": "markdown",
   "id": "f983cef7",
   "metadata": {},
   "source": [
    "### Input Dataset\n",
    "\n",
    "We create an input dataset by using the helper function `initialize_array`. \n",
    "\n",
    "Please refer to [Components](../user_manual/components.md) for detailed explanation of all component types and their input/output attributes."
   ]
  },
  {
   "cell_type": "code",
   "execution_count": 2,
   "id": "6f008736",
   "metadata": {},
   "outputs": [],
   "source": [
    "# node\n",
    "node = initialize_array(\"input\", \"node\", 2)\n",
    "node[\"id\"] = np.array([2, 4])\n",
    "node[\"u_rated\"] = [1e4, 4e2]\n",
    "\n",
    "# load\n",
    "sym_load = initialize_array(\"input\", \"sym_load\", 1)\n",
    "sym_load[\"id\"] = [5]\n",
    "sym_load[\"node\"] = [4]\n",
    "sym_load[\"status\"] = [1]\n",
    "sym_load[\"type\"] = [LoadGenType.const_power]\n",
    "sym_load[\"p_specified\"] = [1e3]\n",
    "sym_load[\"q_specified\"] = [5e3]\n",
    "\n",
    "# source\n",
    "source = initialize_array(\"input\", \"source\", 1)\n",
    "source[\"id\"] = [1]\n",
    "source[\"node\"] = [2]\n",
    "source[\"status\"] = [1]\n",
    "source[\"u_ref\"] = [1.0]\n",
    "\n",
    "# transformer\n",
    "transformer = initialize_array(\"input\", \"transformer\", 1)\n",
    "transformer[\"id\"] = [3]\n",
    "transformer[\"from_node\"] = [2]\n",
    "transformer[\"to_node\"] = [4]\n",
    "transformer[\"from_status\"] = [1]\n",
    "transformer[\"to_status\"] = [1]\n",
    "transformer[\"u1\"] = [1e4]\n",
    "transformer[\"u2\"] = [4e2]\n",
    "transformer[\"sn\"] = [1e5]\n",
    "transformer[\"uk\"] = [0.1]\n",
    "transformer[\"pk\"] = [1e3]\n",
    "transformer[\"i0\"] = [1.0e-6]\n",
    "transformer[\"p0\"] = [0.1]\n",
    "transformer[\"winding_from\"] = [2]\n",
    "transformer[\"winding_to\"] = [1]\n",
    "transformer[\"clock\"] = [5]\n",
    "transformer[\"tap_side\"] = [0]\n",
    "transformer[\"tap_pos\"] = [3]\n",
    "transformer[\"tap_min\"] = [-11]\n",
    "transformer[\"tap_max\"] = [9]\n",
    "transformer[\"tap_size\"] = [100]\n",
    "\n",
    "# all\n",
    "input_data = {\n",
    "    \"node\": node, \n",
    "    \"transformer\": transformer, \n",
    "    \"sym_load\": sym_load, \n",
    "    \"source\": source\n",
    "}"
   ]
  },
  {
   "cell_type": "markdown",
   "id": "d16f9dea",
   "metadata": {},
   "source": [
    "**We can print the input dataset by converting the numpy array to dataframe.**"
   ]
  },
  {
   "cell_type": "code",
   "execution_count": 3,
   "id": "37749c7c",
   "metadata": {},
   "outputs": [
    {
     "name": "stdout",
     "output_type": "stream",
     "text": [
      "   id  from_node  to_node  from_status  to_status       u1     u2        sn  \\\n",
      "0   3          2        4            1          1  10000.0  400.0  100000.0   \n",
      "\n",
      "    uk      pk  ...  tap_nom  tap_size  uk_min  uk_max  pk_min  pk_max  \\\n",
      "0  0.1  1000.0  ...     -128     100.0     NaN     NaN     NaN     NaN   \n",
      "\n",
      "   r_grounding_from  x_grounding_from  r_grounding_to  x_grounding_to  \n",
      "0               NaN               NaN             NaN             NaN  \n",
      "\n",
      "[1 rows x 29 columns]\n"
     ]
    }
   ],
   "source": [
    "print(pd.DataFrame(input_data[\"transformer\"]))"
   ]
  },
  {
   "cell_type": "markdown",
   "id": "47a9c257",
   "metadata": {},
   "source": [
    "### One-time Power Flow Calculation\n",
    "\n",
    "You can call the method `calculate_power_flow` to do a one-time calculation based on the current network data in the model.\n",
    "\n",
    "For detailed explanation of the arguments, batch calculations and asymmetric calculations, we refer to the [Power Flow Example](./Power%20Flow%20Example.ipynb) and [Asymmetric Calculation Example](./Asymmetric%20Calculation%20Example.ipynb). "
   ]
  },
  {
   "cell_type": "code",
   "execution_count": 4,
   "id": "7bb0f998",
   "metadata": {},
   "outputs": [
    {
     "name": "stdout",
     "output_type": "stream",
     "text": [
      "------node result------\n",
      "   id  energized      u_pu            u       u_angle            p  \\\n",
      "0   2          1  0.999999  9999.994897 -4.976260e-08  1002.882212   \n",
      "1   4          1  0.965618   386.247005 -2.618522e+00 -1000.000000   \n",
      "\n",
      "             q  \n",
      "0  5027.744841  \n",
      "1 -5000.000000  \n"
     ]
    }
   ],
   "source": [
    "# validation (optional)\n",
    "from power_grid_model.validation import assert_valid_input_data\n",
    "\n",
    "assert_valid_input_data(input_data=input_data, calculation_type=CalculationType.power_flow)\n",
    "\n",
    "# construction\n",
    "model = PowerGridModel(input_data)\n",
    "\n",
    "# one-time power flow calculation\n",
    "output_data = model.calculate_power_flow(\n",
    "    symmetric=True, \n",
    "    error_tolerance=1e-8, \n",
    "    max_iterations=20, \n",
    "    calculation_method=CalculationMethod.newton_raphson\n",
    ")\n",
    "\n",
    "# result dataset\n",
    "print(\"------node result------\")\n",
    "print(pd.DataFrame(output_data[\"node\"]))"
   ]
  },
  {
   "attachments": {},
   "cell_type": "markdown",
   "id": "682c1c48",
   "metadata": {},
   "source": [
    "### One-time State Estimation\n",
    "Below we present a simple example of state estimation for a network with a two-winding transformer. \n",
    "\n",
    "NOTE: In `power-grid-model`, two-winding transformers belong to `branch` component type, therefore the `measured_terminal_type` of power sensors should be assigned to `MeasuredTerminalType.branch_from/_to`.\n",
    "\n",
    "For detailed explanation of the arguments, batch calculations and asymmetric calculations, we refer to the [State Estimation Example](./State%20Estimation%20Example.ipynb) and [Asymmetric Calculation Example](./Asymmetric%20Calculation%20Example.ipynb)."
   ]
  },
  {
   "cell_type": "code",
   "execution_count": 5,
   "id": "f0c8c3e8",
   "metadata": {},
   "outputs": [
    {
     "name": "stdout",
     "output_type": "stream",
     "text": [
      "------node result------\n",
      "   id  energized      u_pu             u   u_angle              p  \\\n",
      "0   2          1  9.987392  99873.919714  0.000000  470658.914282   \n",
      "1   4          1  9.209290   3683.716125 -2.617974 -446912.927660   \n",
      "\n",
      "              q  \n",
      "0  4.700696e+06  \n",
      "1 -4.464515e+06  \n"
     ]
    }
   ],
   "source": [
    "# voltage sensor\n",
    "sym_voltage_sensor = initialize_array(\"input\", \"sym_voltage_sensor\", 2)\n",
    "sym_voltage_sensor[\"id\"] = [6, 7]\n",
    "sym_voltage_sensor[\"measured_object\"] = [2, 4]\n",
    "sym_voltage_sensor[\"u_sigma\"] = [1.0, 1.0]\n",
    "sym_voltage_sensor[\"u_measured\"] = [1e5, 4e2]\n",
    "\n",
    "# power sensor\n",
    "sym_power_sensor = initialize_array(\"input\", \"sym_power_sensor\", 2)\n",
    "sym_power_sensor[\"id\"] = [8, 9]\n",
    "sym_power_sensor[\"measured_object\"] = [3, 3]\n",
    "sym_power_sensor[\"measured_terminal_type\"] = [\n",
    "    MeasuredTerminalType.branch_from,\n",
    "    MeasuredTerminalType.branch_to,\n",
    "]\n",
    "sym_power_sensor[\"power_sigma\"] = [1.0, 1.0]\n",
    "sym_power_sensor[\"p_measured\"] = [2e6, 1e5]\n",
    "sym_power_sensor[\"q_measured\"] = [2e7, 1e6]\n",
    "\n",
    "# use components from former input dataset cell.\n",
    "input_data2 = {\n",
    "    \"node\": node,\n",
    "    \"transformer\": transformer,\n",
    "    \"sym_load\": sym_load,\n",
    "    \"source\": source,\n",
    "    \"sym_voltage_sensor\": sym_voltage_sensor,\n",
    "    \"sym_power_sensor\": sym_power_sensor,\n",
    "}\n",
    "\n",
    "# validation (optional)\n",
    "from power_grid_model.validation import assert_valid_input_data\n",
    "\n",
    "assert_valid_input_data(input_data=input_data2, calculation_type=CalculationType.state_estimation)\n",
    "\n",
    "# construction\n",
    "model2 = PowerGridModel(input_data2)\n",
    "\n",
    "# one-time state estimation\n",
    "output_data2 = model2.calculate_state_estimation(\n",
    "    symmetric=True, \n",
    "    error_tolerance=1e-8, \n",
    "    max_iterations=20, \n",
    "    calculation_method=CalculationMethod.iterative_linear\n",
    ")\n",
    "\n",
    "# result dataset\n",
    "print(\"------node result------\")\n",
    "print(pd.DataFrame(output_data2[\"node\"]))"
   ]
  },
  {
   "attachments": {},
   "cell_type": "markdown",
   "id": "e3605c3e",
   "metadata": {},
   "source": [
    "## Three-Winding Transformer\n",
    "\n",
    "Three-winding transformer is described as 3 transformers of pi model each connected together in star configuration, and it belongs to the `branch3` component type which connects three nodes with possibly different voltage levels.\n",
    "\n",
    "### Example Network\n",
    "\n",
    "We use a simple network with 3 nodes, 1 source, 1 load and 1 three-winding transformer. As shown below:\n",
    "\n",
    "```\n",
    "   source_1 --- node_2 --- three_winding_transformer_3 --- node_4 --- load_5\n",
    "                                        |\n",
    "                                        -------------------node_6 --- load_7\n",
    "                                    \n",
    "```"
   ]
  },
  {
   "cell_type": "markdown",
   "id": "84a7f686",
   "metadata": {},
   "source": [
    "### Input Dataset\n",
    "\n",
    "We use the helper function `initialize_array` to create an input dataset.\n",
    "\n",
    "Please refer to [Components](../user_manual/components.md) for detailed explanation of all component types and their input/output attributes."
   ]
  },
  {
   "cell_type": "code",
   "execution_count": 6,
   "id": "44c2de63",
   "metadata": {},
   "outputs": [],
   "source": [
    "# node\n",
    "node = initialize_array(\"input\", \"node\", 3)\n",
    "node[\"id\"] = np.array([2, 4, 6])\n",
    "node[\"u_rated\"] = [1e4, 1e2, 1e2]\n",
    "\n",
    "# load\n",
    "sym_load = initialize_array(\"input\", \"sym_load\", 2)\n",
    "sym_load[\"id\"] = [5, 7]\n",
    "sym_load[\"node\"] = [4, 6]\n",
    "sym_load[\"status\"] = [1]\n",
    "sym_load[\"type\"] = [LoadGenType.const_power]\n",
    "sym_load[\"p_specified\"] = [1e3, 1e3]\n",
    "sym_load[\"q_specified\"] = [5e3, 5e3]\n",
    "\n",
    "# source\n",
    "source = initialize_array(\"input\", \"source\", 1)\n",
    "source[\"id\"] = [1]\n",
    "source[\"node\"] = [2]\n",
    "source[\"status\"] = [1]\n",
    "source[\"u_ref\"] = [1.0]\n",
    "\n",
    "# three-winding transformer\n",
    "three_winding_transformer = initialize_array(\"input\", \"three_winding_transformer\", 1)\n",
    "three_winding_transformer[\"id\"] = [3]\n",
    "three_winding_transformer[\"node_1\"] = [2]\n",
    "three_winding_transformer[\"node_2\"] = [4]\n",
    "three_winding_transformer[\"node_3\"] = [6]\n",
    "three_winding_transformer[\"status_1\"] = [1]\n",
    "three_winding_transformer[\"status_2\"] = [1]\n",
    "three_winding_transformer[\"status_3\"] = [1]\n",
    "three_winding_transformer[\"u1\"] = [1e4]\n",
    "three_winding_transformer[\"u2\"] = [1e2]\n",
    "three_winding_transformer[\"u3\"] = [1e2]\n",
    "three_winding_transformer[\"sn_1\"] = [1e5]\n",
    "three_winding_transformer[\"sn_2\"] = [1e5]\n",
    "three_winding_transformer[\"sn_3\"] = [1e5]\n",
    "three_winding_transformer[\"uk_12\"] = [0.09]\n",
    "three_winding_transformer[\"uk_13\"] = [0.06]\n",
    "three_winding_transformer[\"uk_23\"] = [0.06]\n",
    "three_winding_transformer[\"pk_12\"] = [1e3]\n",
    "three_winding_transformer[\"pk_13\"] = [1e3]\n",
    "three_winding_transformer[\"pk_23\"] = [1e3]\n",
    "three_winding_transformer[\"i0\"] = [0]\n",
    "three_winding_transformer[\"p0\"] = [0]\n",
    "three_winding_transformer[\"winding_1\"] = [2]\n",
    "three_winding_transformer[\"winding_2\"] = [1]\n",
    "three_winding_transformer[\"winding_3\"] = [1]\n",
    "three_winding_transformer[\"clock_12\"] = [5]\n",
    "three_winding_transformer[\"clock_13\"] = [5]\n",
    "three_winding_transformer[\"tap_side\"] = [0]\n",
    "three_winding_transformer[\"tap_pos\"] = [0]\n",
    "three_winding_transformer[\"tap_min\"] = [-10]\n",
    "three_winding_transformer[\"tap_max\"] = [10]\n",
    "three_winding_transformer[\"tap_nom\"] = [0]\n",
    "three_winding_transformer[\"tap_size\"] = [1380]\n",
    "\n",
    "# all\n",
    "input_data3 = {\n",
    "    \"node\": node,\n",
    "    \"three_winding_transformer\": three_winding_transformer,\n",
    "    \"sym_load\": sym_load,\n",
    "    \"source\": source\n",
    "}"
   ]
  },
  {
   "cell_type": "markdown",
   "id": "c25444ec",
   "metadata": {},
   "source": [
    "### One-time power flow calculation"
   ]
  },
  {
   "cell_type": "code",
   "execution_count": 7,
   "id": "b4e63620",
   "metadata": {},
   "outputs": [
    {
     "name": "stdout",
     "output_type": "stream",
     "text": [
      "------node result------\n",
      "   id  energized      u_pu            u       u_angle            p  \\\n",
      "0   2          1  0.999999  9999.989788 -9.966674e-08  2007.896574   \n",
      "1   4          1  0.993097    99.309655 -2.618590e+00 -1000.000000   \n",
      "2   6          1  0.994637    99.463733 -2.618281e+00 -1000.000000   \n",
      "\n",
      "              q  \n",
      "0  10062.592544  \n",
      "1  -5000.000000  \n",
      "2  -5000.000000  \n"
     ]
    }
   ],
   "source": [
    "# validation (optional)\n",
    "from power_grid_model.validation import assert_valid_input_data\n",
    "assert_valid_input_data(input_data=input_data3, calculation_type=CalculationType.power_flow)\n",
    "\n",
    "# construction\n",
    "model3 = PowerGridModel(input_data3)\n",
    "\n",
    "# one-time power flow calculation\n",
    "output_data3 = model3.calculate_power_flow(\n",
    "    symmetric=True,\n",
    "    error_tolerance=1e-8,\n",
    "    max_iterations=20,\n",
    "    calculation_method=CalculationMethod.newton_raphson)\n",
    "\n",
    "# result dataset\n",
    "print(\"------node result------\")\n",
    "print(pd.DataFrame(output_data3[\"node\"]))"
   ]
  },
  {
   "cell_type": "markdown",
   "id": "36f829f1",
   "metadata": {},
   "source": [
    "### One-time State Estimation\n",
    "\n",
    "Below we present a simple example of state estimation for a network with a three-winding transformer. \n",
    "\n",
    "NOTE: In `power-grid-model`, three-winding transformers belong to `branch3` component type, therefore the `measured_terminal_type` of power sensors should be assigned to `MeasuredTerminalType.branch3_1/_2/_3`.\n",
    "\n",
    "For detailed explanation of the arguments, batch calculations and asymmetric calculations, we refer to the [State Estimation Example](./State%20Estimation%20Example.ipynb) and [Asymmetric Calculation Example](./Asymmetric%20Calculation%20Example.ipynb)."
   ]
  },
  {
   "cell_type": "code",
   "execution_count": 8,
   "id": "1ae6c043",
   "metadata": {},
   "outputs": [
    {
     "name": "stdout",
     "output_type": "stream",
     "text": [
      "------three-winding transformer result------\n",
      "   id  energized   loading         p_1         q_1       i_1          s_1  \\\n",
      "0   3          1  0.033993  667.156598  3333.23678  0.196261  3399.347785   \n",
      "\n",
      "          p_2          q_2       i_2          s_2         p_3          q_3  \\\n",
      "0 -333.400686 -1662.691395  9.813068  1695.788516 -332.889246 -1663.677083   \n",
      "\n",
      "        i_3          s_3  \n",
      "0  9.813068  1696.654557  \n"
     ]
    }
   ],
   "source": [
    "# voltage sensor\n",
    "sym_voltage_sensor = initialize_array(\"input\", \"sym_voltage_sensor\", 3)\n",
    "sym_voltage_sensor[\"id\"] = [8, 9, 10]\n",
    "sym_voltage_sensor[\"measured_object\"] = [2, 4, 6]\n",
    "sym_voltage_sensor[\"u_sigma\"] = [1.0, 1.0, 1.0]\n",
    "sym_voltage_sensor[\"u_measured\"] = [1e4, 1e2, 1e2]\n",
    "\n",
    "# power sensor\n",
    "sym_power_sensor = initialize_array(\"input\", \"sym_power_sensor\", 3)\n",
    "sym_power_sensor[\"id\"] = [11, 12, 13]\n",
    "sym_power_sensor[\"measured_object\"] = [3, 3, 3]\n",
    "sym_power_sensor[\"measured_terminal_type\"] = [\n",
    "    MeasuredTerminalType.branch3_1,\n",
    "    MeasuredTerminalType.branch3_2,\n",
    "    MeasuredTerminalType.branch3_3,\n",
    "]\n",
    "sym_power_sensor[\"power_sigma\"] = [1.0, 1.0, 1.0]\n",
    "sym_power_sensor[\"p_measured\"] = [2e3, 1e3, 1e3]\n",
    "sym_power_sensor[\"q_measured\"] = [1e4, 5e3, 5e3]\n",
    "\n",
    "# use components from the one-time power flow calculation with three-winding transformer\n",
    "input_data4 = {\n",
    "    \"node\": node,\n",
    "    \"three_winding_transformer\": three_winding_transformer,\n",
    "    \"sym_load\": sym_load,\n",
    "    \"source\": source,\n",
    "    \"sym_voltage_sensor\": sym_voltage_sensor,\n",
    "    \"sym_power_sensor\": sym_power_sensor,\n",
    "}\n",
    "\n",
    "# validation (optional)\n",
    "from power_grid_model.validation import assert_valid_input_data\n",
    "\n",
    "assert_valid_input_data(input_data=input_data4, calculation_type=CalculationType.state_estimation)\n",
    "\n",
    "# construction\n",
    "model4 = PowerGridModel(input_data4)\n",
    "\n",
    "# one-time state estimation\n",
    "output_data4 = model4.calculate_state_estimation(\n",
    "    symmetric=True, \n",
    "    error_tolerance=1e-8, \n",
    "    max_iterations=20, \n",
    "    calculation_method=CalculationMethod.iterative_linear\n",
    ")\n",
    "\n",
    "# result dataset\n",
    "print(\"------three-winding transformer result------\")\n",
    "print(pd.DataFrame(output_data4[\"three_winding_transformer\"]))"
   ]
  }
 ],
 "metadata": {
  "kernelspec": {
   "display_name": "Python 3 (ipykernel)",
   "language": "python",
   "name": "python3"
  },
  "language_info": {
   "codemirror_mode": {
    "name": "ipython",
    "version": 3
   },
   "file_extension": ".py",
   "mimetype": "text/x-python",
   "name": "python",
   "nbconvert_exporter": "python",
   "pygments_lexer": "ipython3",
   "version": "3.12.2"
  },
  "vscode": {
   "interpreter": {
    "hash": "f2534ebf7a1a13ecc51c3a04ce741b49cf1feb97b5ca55170ed7b2036b4058c0"
   }
  }
 },
 "nbformat": 4,
 "nbformat_minor": 5
}
