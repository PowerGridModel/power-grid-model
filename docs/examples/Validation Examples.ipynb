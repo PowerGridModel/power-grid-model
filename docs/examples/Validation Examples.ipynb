{
 "cells": [
  {
   "cell_type": "markdown",
   "id": "89cf2628",
   "metadata": {},
   "source": [
    "# Validation Examples\n",
    "\n",
    "As a result of optimizations, and the low level nature of the Power Grid Model's mathematical core, the core exceptions may not always be clear to the user. Therefore an optional validation mechanism is supplied, which validates data structures and values off-line. It is recommended to always validate your data before constructing a PowerGridModel instance. An alternative approach would be to validate only when an exception is raised, but be aware that not all data errors will raise exceptions: most of them will just yield invalid results without warning."
   ]
  },
  {
   "cell_type": "markdown",
   "id": "3cbdd654",
   "metadata": {},
   "source": [
    "The basic methods and class definitions are available in the `power_grid_model.validation` module:\n",
    "\n",
    "```python\n",
    "# Manual validation\n",
    "#   validate_input_data() assumes that you won't be using update data in your calculation.\n",
    "#   validate_batch_data() validates input_data in combination with batch/update data.\n",
    "validate_input_data(input_data, calculation_type, symmetric) -> list[ValidationError]\n",
    "validate_batch_data(input_data, update_data, calculation_type, symmetric) -> dict[int, list[ValidationError]]\n",
    "\n",
    "# Assertions\n",
    "#   assert_valid_input_data() and assert_valid_batch_data() raise a ValidationException,\n",
    "#   containing the list/dict of errors, when the data is invalid.\n",
    "assert_valid_input_data(input_data, calculation_type, symmetric) raises ValidationException\n",
    "assert_valid_batch_data(input_data, calculation_type, update_data, symmetric) raises ValidationException\n",
    "\n",
    "# Utilities\n",
    "#   errors_to_string() converts a set of errors to a human readable (multi-line) string representation\n",
    "errors_to_string(errors, name, details)\n",
    "```\n",
    "\n",
    "Each validation error is an object which can be converted to a compact human-readable message using `str(error)`. It\n",
    "contains three member variables `component`, `field` and `ids`, which can be used to gather more specific information about the validation error, e.g. which object IDs are involved.\n",
    "\n",
    "```python\n",
    "class ValidationError:\n",
    "    \n",
    "    # Component(s): e.g. ComponentType.node or [ComponentType.node, ComponentType.line]\n",
    "    component: ComponentType | list[ComponentType]\n",
    "    \n",
    "    # Field(s): e.g. \"id\" or [\"line_from\", \"line_to\"] or [(ComponentType.node, \"id\"), (ComponentType.line, \"id\")]\n",
    "    field: str | list[str] | list[tuple[ComponentType, str]]\n",
    "\n",
    "    # IDs: e.g. [1, 2, 3] or [(ComponentType.node, 1), (ComponentType.line, 1)]\n",
    "    ids: list[int] | list[tuple[ComponentType, int]] = []    \n",
    "    \n",
    "```\n",
    "\n",
    "Note: The data types of `input_data` and `update_data` are the same as expected by the power grid model."
   ]
  },
  {
   "cell_type": "code",
   "execution_count": null,
   "id": "d122ee22",
   "metadata": {},
   "outputs": [],
   "source": [
    "from power_grid_model import ComponentType, DatasetType, PowerGridModel, initialize_array\n",
    "\n",
    "# A power grid containing several errors\n",
    "\n",
    "# node\n",
    "node_error = initialize_array(DatasetType.input, ComponentType.node, 3)\n",
    "node_error[\"id\"] = [1, 2, 3]\n",
    "node_error[\"u_rated\"] = [10.5e3]\n",
    "\n",
    "# line\n",
    "line_error = initialize_array(DatasetType.input, ComponentType.line, 3)\n",
    "line_error[\"id\"] = [4, 5, 6]\n",
    "line_error[\"from_node\"] = [1, 2, 3]\n",
    "line_error[\"to_node\"] = [2, 3, 4]\n",
    "line_error[\"from_status\"] = [True]\n",
    "line_error[\"to_status\"] = [True]\n",
    "line_error[\"r1\"] = [0.25]\n",
    "line_error[\"x1\"] = [0.2]\n",
    "line_error[\"c1\"] = [10e-6]\n",
    "line_error[\"tan1\"] = [0.0]\n",
    "\n",
    "# Power Sensor\n",
    "sensor_error = initialize_array(DatasetType.input, ComponentType.sym_power_sensor, 2)\n",
    "sensor_error[\"id\"] = [6, 7]\n",
    "sensor_error[\"measured_object\"] = [3, 4]\n",
    "sensor_error[\"measured_terminal_type\"] = [0, 2]\n",
    "sensor_error[\"p_measured\"] = [0]\n",
    "sensor_error[\"q_measured\"] = [0]\n",
    "sensor_error[\"power_sigma\"] = [0]\n",
    "\n",
    "error_data = {\n",
    "    ComponentType.node: node_error,\n",
    "    ComponentType.line: line_error,\n",
    "    ComponentType.sym_power_sensor: sensor_error,\n",
    "}"
   ]
  },
  {
   "cell_type": "code",
   "execution_count": null,
   "id": "d997e738",
   "metadata": {},
   "outputs": [],
   "source": [
    "# Without validation\n",
    "model = PowerGridModel(error_data)\n",
    "output_data = model.calculate_state_estimation(symmetric=True)"
   ]
  },
  {
   "cell_type": "code",
   "execution_count": null,
   "id": "fd84be3c",
   "metadata": {},
   "outputs": [],
   "source": [
    "from power_grid_model.validation import assert_valid_input_data\n",
    "\n",
    "# Assert valid data\n",
    "assert_valid_input_data(error_data, symmetric=True)\n",
    "model = PowerGridModel(error_data)\n",
    "output_data = model.calculate_state_estimation(symmetric=True)"
   ]
  },
  {
   "cell_type": "code",
   "execution_count": null,
   "id": "6286ece0",
   "metadata": {},
   "outputs": [],
   "source": [
    "from power_grid_model.validation import ValidationException\n",
    "\n",
    "# Assert valid data and display component ids\n",
    "try:\n",
    "    assert_valid_input_data(error_data, symmetric=True)\n",
    "    model = PowerGridModel(error_data)\n",
    "    output_data = model.calculate_state_estimation(symmetric=True)\n",
    "except ValidationException as ex:\n",
    "    for error in ex.errors:\n",
    "        print(type(error).__name__, error.component, \":\", error.ids)"
   ]
  },
  {
   "cell_type": "code",
   "execution_count": null,
   "id": "1e4ca721",
   "metadata": {},
   "outputs": [],
   "source": [
    "from power_grid_model.validation import errors_to_string, validate_input_data\n",
    "\n",
    "# Validation only as exception handling\n",
    "try:\n",
    "    model = PowerGridModel(error_data)\n",
    "    output_data = model.calculate_state_estimation(symmetric=True)\n",
    "except RuntimeError as _ex:\n",
    "    errors = validate_input_data(error_data, symmetric=True)\n",
    "    print(errors_to_string(errors))"
   ]
  },
  {
   "cell_type": "code",
   "execution_count": null,
   "id": "91a1aff6",
   "metadata": {},
   "outputs": [],
   "source": [
    "# Manual checking and display detailed information about the invalid data\n",
    "errors = validate_input_data(error_data, symmetric=True)\n",
    "print(errors_to_string(errors, details=True))"
   ]
  }
 ],
 "metadata": {
  "kernelspec": {
   "display_name": "venv",
   "language": "python",
   "name": "python3"
  },
  "language_info": {
   "codemirror_mode": {
    "name": "ipython",
    "version": 3
   },
   "file_extension": ".py",
   "mimetype": "text/x-python",
   "name": "python",
   "nbconvert_exporter": "python",
   "pygments_lexer": "ipython3",
   "version": "3.13.3"
  }
 },
 "nbformat": 4,
 "nbformat_minor": 5
}
